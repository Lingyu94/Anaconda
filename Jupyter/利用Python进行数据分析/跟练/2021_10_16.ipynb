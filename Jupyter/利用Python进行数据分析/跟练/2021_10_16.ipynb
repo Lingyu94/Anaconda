{
 "cells": [
  {
   "cell_type": "markdown",
   "id": "5abca95b",
   "metadata": {},
   "source": [
    "# 变量和参数传递"
   ]
  },
  {
   "cell_type": "code",
   "execution_count": 22,
   "id": "c401d823",
   "metadata": {},
   "outputs": [],
   "source": [
    "def append_element(some_list, element): #定义函数\n",
    "    some_list.append(element)"
   ]
  },
  {
   "cell_type": "code",
   "execution_count": 23,
   "id": "07145b85",
   "metadata": {},
   "outputs": [],
   "source": [
    "data = [1, 2, 3]"
   ]
  },
  {
   "cell_type": "code",
   "execution_count": 24,
   "id": "8928dfcc",
   "metadata": {},
   "outputs": [],
   "source": [
    "append_element(data, 5)"
   ]
  },
  {
   "cell_type": "code",
   "execution_count": 25,
   "id": "ead3d35d",
   "metadata": {},
   "outputs": [
    {
     "data": {
      "text/plain": [
       "[1, 2, 3, 5]"
      ]
     },
     "execution_count": 25,
     "metadata": {},
     "output_type": "execute_result"
    }
   ],
   "source": [
    "data"
   ]
  },
  {
   "cell_type": "markdown",
   "id": "c52870ad",
   "metadata": {},
   "source": [
    "# 类型转换"
   ]
  },
  {
   "cell_type": "markdown",
   "id": "03773291",
   "metadata": {},
   "source": [
    "## str:字符串；float：浮点数；int：整数；bool：布尔"
   ]
  },
  {
   "cell_type": "code",
   "execution_count": 26,
   "id": "5aedf57f",
   "metadata": {},
   "outputs": [],
   "source": [
    "s = '3.1415926'"
   ]
  },
  {
   "cell_type": "code",
   "execution_count": 27,
   "id": "0917b149",
   "metadata": {},
   "outputs": [
    {
     "data": {
      "text/plain": [
       "str"
      ]
     },
     "execution_count": 27,
     "metadata": {},
     "output_type": "execute_result"
    }
   ],
   "source": [
    "type(s)"
   ]
  },
  {
   "cell_type": "code",
   "execution_count": 28,
   "id": "49dff51f",
   "metadata": {},
   "outputs": [],
   "source": [
    "fval = float(s)"
   ]
  },
  {
   "cell_type": "code",
   "execution_count": 29,
   "id": "6c12e72b",
   "metadata": {},
   "outputs": [
    {
     "data": {
      "text/plain": [
       "float"
      ]
     },
     "execution_count": 29,
     "metadata": {},
     "output_type": "execute_result"
    }
   ],
   "source": [
    "type(fval)"
   ]
  },
  {
   "cell_type": "code",
   "execution_count": 30,
   "id": "1a8748e3",
   "metadata": {},
   "outputs": [
    {
     "data": {
      "text/plain": [
       "3"
      ]
     },
     "execution_count": 30,
     "metadata": {},
     "output_type": "execute_result"
    }
   ],
   "source": [
    "a = int(fval)\n",
    "a"
   ]
  },
  {
   "cell_type": "code",
   "execution_count": 31,
   "id": "a6a08d69",
   "metadata": {},
   "outputs": [
    {
     "data": {
      "text/plain": [
       "int"
      ]
     },
     "execution_count": 31,
     "metadata": {},
     "output_type": "execute_result"
    }
   ],
   "source": [
    "type(a)"
   ]
  },
  {
   "cell_type": "code",
   "execution_count": 32,
   "id": "8c65c562",
   "metadata": {},
   "outputs": [
    {
     "data": {
      "text/plain": [
       "False"
      ]
     },
     "execution_count": 32,
     "metadata": {},
     "output_type": "execute_result"
    }
   ],
   "source": [
    "b = bool(0)\n",
    "b"
   ]
  },
  {
   "cell_type": "markdown",
   "id": "6f30c73d",
   "metadata": {},
   "source": [
    "# None"
   ]
  },
  {
   "cell_type": "code",
   "execution_count": 38,
   "id": "6df8b72e",
   "metadata": {},
   "outputs": [
    {
     "data": {
      "text/plain": [
       "12"
      ]
     },
     "execution_count": 38,
     "metadata": {},
     "output_type": "execute_result"
    }
   ],
   "source": [
    "def add_and_maybe_multiply(a, b, c = None):\n",
    "    result = a + b\n",
    "    if c is not None:\n",
    "        result = result + c\n",
    "    return result\n",
    "add_and_maybe_multiply(3, 4, 5)"
   ]
  },
  {
   "cell_type": "code",
   "execution_count": 39,
   "id": "f5291cec",
   "metadata": {},
   "outputs": [
    {
     "data": {
      "text/plain": [
       "7"
      ]
     },
     "execution_count": 39,
     "metadata": {},
     "output_type": "execute_result"
    }
   ],
   "source": [
    "add_and_maybe_multiply(3, 4)"
   ]
  }
 ],
 "metadata": {
  "kernelspec": {
   "display_name": "Python 3",
   "language": "python",
   "name": "python3"
  },
  "language_info": {
   "codemirror_mode": {
    "name": "ipython",
    "version": 3
   },
   "file_extension": ".py",
   "mimetype": "text/x-python",
   "name": "python",
   "nbconvert_exporter": "python",
   "pygments_lexer": "ipython3",
   "version": "3.8.8"
  }
 },
 "nbformat": 4,
 "nbformat_minor": 5
}
